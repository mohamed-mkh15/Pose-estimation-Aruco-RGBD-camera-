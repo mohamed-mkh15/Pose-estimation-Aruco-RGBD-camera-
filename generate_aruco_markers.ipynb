{
  "nbformat": 4,
  "nbformat_minor": 0,
  "metadata": {
    "colab": {
      "provenance": [],
      "authorship_tag": "ABX9TyONbpcJGW4JsxSPLcXNr08x",
      "include_colab_link": true
    },
    "kernelspec": {
      "name": "python3",
      "display_name": "Python 3"
    },
    "language_info": {
      "name": "python"
    }
  },
  "cells": [
    {
      "cell_type": "markdown",
      "metadata": {
        "id": "view-in-github",
        "colab_type": "text"
      },
      "source": [
        "<a href=\"https://colab.research.google.com/github/mohamed-mkh15/Pose-estimation-Aruco-RGBD-camera-/blob/main/generate_aruco_markers.ipynb\" target=\"_parent\"><img src=\"https://colab.research.google.com/assets/colab-badge.svg\" alt=\"Open In Colab\"/></a>"
      ]
    },
    {
      "cell_type": "markdown",
      "source": [
        "## Method #1\n"
      ],
      "metadata": {
        "id": "pANGgKx185UC"
      }
    },
    {
      "cell_type": "code",
      "source": [
        "import cv2\n",
        "import os\n",
        "\n",
        "def create_folder(path):\n",
        "  if not os.path.isdir(path):\n",
        "   os.makedirs(path)\n",
        "\n",
        "def generate_and_export_batch(aruco_dict, max_count, output_folder, ext):\n",
        "  for i in range(0, max_count):\n",
        "    marker = cv2.aruco.generateImageMarker(aruco_dict, i, marker_size)\n",
        "    output_path = os.path.join(output_folder, \"marker_\" + str('%03d' % i) + ext)\n",
        "    cv2.imwrite(output_path, marker)\n",
        "\n",
        "def generate_aruco_markers(dict_code, count, output_folder, ext):\n",
        "  if count <= 0:\n",
        "    print(\"Invalid input count\", count)\n",
        "    return\n",
        "\n",
        "  aruco_dict = cv2.aruco.getPredefinedDictionary(dict_code)\n",
        "  real_max_count = min(count, len(aruco_dict.bytesList))\n",
        "\n",
        "  print(\"Generating \" , real_max_count, \" markers...\")\n",
        "  generate_and_export_batch(aruco_dict, real_max_count, output_folder, ext)\n",
        "  print(\"Generation completed!\")"
      ],
      "metadata": {
        "id": "Ww1u6lFo85h7"
      },
      "execution_count": 1,
      "outputs": []
    },
    {
      "cell_type": "code",
      "source": [
        "#@markdown Aruco Generation\n",
        "predefined_dict = \"cv2.aruco.DICT_4X4_50\" #@param [\"cv2.aruco.DICT_4X4_50\",\"cv2.aruco.DICT_4X4_100\",\"cv2.aruco.DICT_4X4_250\",\"cv2.aruco.DICT_4X4_1000\",\"cv2.aruco.DICT_5X5_50\",\"cv2.aruco.DICT_5X5_100\",\"cv2.aruco.DICT_5X5_250\",\"cv2.aruco.DICT_5X5_1000\",\"cv2.aruco.DICT_6X6_50\",\"cv2.aruco.DICT_6X6_100\",\"cv2.aruco.DICT_6X6_250\",\"cv2.aruco.DICT_6X6_1000\",\"cv2.aruco.DICT_7X7_50\",\"cv2.aruco.DICT_7X7_100\",\"cv2.aruco.DICT_7X7_250\",\"cv2.aruco.DICT_7X7_1000\",\"cv2.aruco.DICT_ARUCO_ORIGINAL\",\"cv2.aruco.DICT_APRILTAG_16h5\",\"cv2.aruco.DICT_APRILTAG_25h9\",\"cv2.aruco.DICT_APRILTAG_36h10\",\"cv2.aruco.DICT_APRILTAG_36h11\"]\n",
        "max_tags = 4 #@param {type:\"number\"}\n",
        "\n",
        "#@markdown Marker settings\n",
        "marker_size = 256 #@param {type:\"slider\", min:48, max:2048, step:2}\n",
        "marker_extension = \".png\" #@param [\".png\", \".jpg\"]"
      ],
      "metadata": {
        "cellView": "form",
        "id": "Xr2gMxeW9FXp"
      },
      "execution_count": 23,
      "outputs": []
    },
    {
      "cell_type": "code",
      "source": [
        "output_dir = \"output\"\n",
        "create_folder(output_dir)\n",
        "generate_aruco_markers(eval(predefined_dict), max_tags, output_dir, marker_extension)"
      ],
      "metadata": {
        "id": "9OiS6GxC9IZa"
      },
      "execution_count": null,
      "outputs": []
    },
    {
      "cell_type": "markdown",
      "source": [
        "## Method #2"
      ],
      "metadata": {
        "id": "4WWcQZAW89cp"
      }
    },
    {
      "cell_type": "code",
      "source": [
        "import cv2\n",
        "import matplotlib.pyplot as plt\n",
        "\n",
        "ID = 10 # ID of ArUCo tag to generate\n",
        "Type = \"DICT_7X7_100\" # default=DICT_ARUCO_ORIGINAL # type of ArUCo tag to generate\n",
        "img_size = 700 # Define the size of the final image\n",
        "\n",
        "# define names of each possible ArUco tag OpenCV supports\n",
        "ARUCO_DICT = {\n",
        "\"DICT_4X4_50\": cv2.aruco.DICT_4X4_50,\n",
        "\"DICT_4X4_100\": cv2.aruco.DICT_4X4_100,\n",
        "\"DICT_4X4_250\": cv2.aruco.DICT_4X4_250,\n",
        "\"DICT_4X4_1000\": cv2.aruco.DICT_4X4_1000,\n",
        "\"DICT_5X5_50\": cv2.aruco.DICT_5X5_50,\n",
        "\"DICT_5X5_100\": cv2.aruco.DICT_5X5_100,\n",
        "\"DICT_5X5_250\": cv2.aruco.DICT_5X5_250,\n",
        "\"DICT_5X5_1000\": cv2.aruco.DICT_5X5_1000,\n",
        "\"DICT_6X6_50\": cv2.aruco.DICT_6X6_50,\n",
        "\"DICT_6X6_100\": cv2.aruco.DICT_6X6_100,\n",
        "\"DICT_6X6_250\": cv2.aruco.DICT_6X6_250,\n",
        "\"DICT_6X6_1000\": cv2.aruco.DICT_6X6_1000,\n",
        "\"DICT_7X7_50\": cv2.aruco.DICT_7X7_50,\n",
        "\"DICT_7X7_100\": cv2.aruco.DICT_7X7_100,\n",
        "\"DICT_7X7_250\": cv2.aruco.DICT_7X7_250,\n",
        "\"DICT_7X7_1000\": cv2.aruco.DICT_7X7_1000,\n",
        "\"DICT_ARUCO_ORIGINAL\": cv2.aruco.DICT_ARUCO_ORIGINAL,\n",
        "\"DICT_APRILTAG_16h5\": cv2.aruco.DICT_APRILTAG_16h5,\n",
        "\"DICT_APRILTAG_25h9\": cv2.aruco.DICT_APRILTAG_25h9,\n",
        "\"DICT_APRILTAG_36h10\": cv2.aruco.DICT_APRILTAG_36h10,\n",
        "\"DICT_APRILTAG_36h11\": cv2.aruco.DICT_APRILTAG_36h11\n",
        "}\n",
        "\n",
        "# verify that the supplied ArUCo tag exists and is supported by\n",
        "# OpenCV\n",
        "if ARUCO_DICT.get(Type, None) is None:\n",
        "    print(\"[INFO] ArUCo tag of '{}' is not supported\".format(Type))\n",
        "    sys.exit(0)\n",
        "# load the ArUCo dictionary\n",
        "arucoDict = cv2.aruco.getPredefinedDictionary(ARUCO_DICT[Type])\n",
        "# arucoDict = cv2.aruco.getPredefinedDictionary(cv2.aruco.DICT_6X6_250)\n",
        "\n",
        "marker_img = cv2.aruco.generateImageMarker(arucoDict, ID, img_size)\n",
        "\n",
        "plt.imshow(marker_img, cmap='gray', interpolation=\"nearest\")\n",
        "plt.axis(\"off\")\n",
        "plt.show()\n",
        "\n",
        "cv2.imwrite(\"aruco{}.png\".format(id), marker_img)"
      ],
      "metadata": {
        "colab": {
          "base_uri": "https://localhost:8080/",
          "height": 423
        },
        "id": "oCehf_CLp91A",
        "outputId": "8c652ef4-4ba2-4962-8d05-3a3ba7d148f5"
      },
      "execution_count": null,
      "outputs": [
        {
          "output_type": "display_data",
          "data": {
            "text/plain": [
              "<Figure size 640x480 with 1 Axes>"
            ],
            "image/png": "[encoded data removed]"
          },
          "metadata": {}
        },
        {
          "output_type": "execute_result",
          "data": {
            "text/plain": [
              "True"
            ]
          },
          "metadata": {},
          "execution_count": 2
        }
      ]
    }
  ]
}